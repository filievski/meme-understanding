{
 "cells": [
  {
   "cell_type": "code",
   "execution_count": 2,
   "metadata": {},
   "outputs": [],
   "source": [
    "import pandas as pd\n",
    "import numpy as np\n",
    "import gensim\n",
    "from gsdmm import MovieGroupProcess\n",
    "import re\n",
    "import nltk\n",
    "import string\n",
    "from nltk.corpus import stopwords\n",
    "import os\n",
    "import matplotlib.pyplot as plt\n",
    "from wordcloud import WordCloud\n",
    "import shutil\n",
    "stopwords = stopwords.words('english')\n"
   ]
  },
  {
   "cell_type": "code",
   "execution_count": 24,
   "metadata": {},
   "outputs": [
    {
     "name": "stderr",
     "output_type": "stream",
     "text": [
      "/tmp/ipykernel_3606945/4116651010.py:1: FutureWarning: The error_bad_lines argument has been deprecated and will be removed in a future version. Use on_bad_lines in the future.\n",
      "\n",
      "\n",
      "  cskg = pd.read_csv(\"cskg_star.tsv\", delimiter=\"\\t\", error_bad_lines=False)\n",
      "Skipping line 5997119: expected 10 fields, saw 11\n",
      "Skipping line 6016458: expected 10 fields, saw 11\n",
      "Skipping line 6017377: expected 10 fields, saw 11\n",
      "\n",
      "Skipping line 6049906: expected 10 fields, saw 11\n",
      "Skipping line 6067719: expected 10 fields, saw 11\n",
      "Skipping line 6069988: expected 10 fields, saw 11\n",
      "Skipping line 6079377: expected 10 fields, saw 11\n",
      "Skipping line 6092900: expected 10 fields, saw 11\n",
      "\n",
      "Skipping line 6101744: expected 10 fields, saw 11\n",
      "Skipping line 6101793: expected 10 fields, saw 11\n",
      "Skipping line 6131769: expected 10 fields, saw 11\n",
      "\n",
      "Skipping line 6171924: expected 10 fields, saw 11\n",
      "Skipping line 6215673: expected 10 fields, saw 11\n",
      "Skipping line 6223428: expected 10 fields, saw 11\n",
      "Skipping line 6225292: expected 10 fields, saw 11\n",
      "\n",
      "/tmp/ipykernel_3606945/4116651010.py:1: DtypeWarning: Columns (7,9) have mixed types. Specify dtype option on import or set low_memory=False.\n",
      "  cskg = pd.read_csv(\"cskg_star.tsv\", delimiter=\"\\t\", error_bad_lines=False)\n"
     ]
    },
    {
     "data": {
      "text/html": [
       "<div>\n",
       "<style scoped>\n",
       "    .dataframe tbody tr th:only-of-type {\n",
       "        vertical-align: middle;\n",
       "    }\n",
       "\n",
       "    .dataframe tbody tr th {\n",
       "        vertical-align: top;\n",
       "    }\n",
       "\n",
       "    .dataframe thead th {\n",
       "        text-align: right;\n",
       "    }\n",
       "</style>\n",
       "<table border=\"1\" class=\"dataframe\">\n",
       "  <thead>\n",
       "    <tr style=\"text-align: right;\">\n",
       "      <th></th>\n",
       "      <th>id</th>\n",
       "      <th>node1</th>\n",
       "      <th>relation</th>\n",
       "      <th>node2</th>\n",
       "      <th>node1;label</th>\n",
       "      <th>node2;label</th>\n",
       "      <th>relation;label</th>\n",
       "      <th>relation;dimension</th>\n",
       "      <th>source</th>\n",
       "      <th>sentence</th>\n",
       "    </tr>\n",
       "  </thead>\n",
       "  <tbody>\n",
       "    <tr>\n",
       "      <th>0</th>\n",
       "      <td>/c/en/0-/r/DefinedAs-/c/en/empty_set-0000</td>\n",
       "      <td>/c/en/0</td>\n",
       "      <td>/r/DefinedAs</td>\n",
       "      <td>/c/en/empty_set</td>\n",
       "      <td>0</td>\n",
       "      <td>empty set</td>\n",
       "      <td>defined as</td>\n",
       "      <td>NaN</td>\n",
       "      <td>CN</td>\n",
       "      <td>[[0]] is the [[empty set]].</td>\n",
       "    </tr>\n",
       "    <tr>\n",
       "      <th>1</th>\n",
       "      <td>/c/en/0-/r/DefinedAs-/c/en/first_limit_ordinal...</td>\n",
       "      <td>/c/en/0</td>\n",
       "      <td>/r/DefinedAs</td>\n",
       "      <td>/c/en/first_limit_ordinal</td>\n",
       "      <td>0</td>\n",
       "      <td>first limit ordinal</td>\n",
       "      <td>defined as</td>\n",
       "      <td>NaN</td>\n",
       "      <td>CN</td>\n",
       "      <td>[[0]] is the [[first limit ordinal]].</td>\n",
       "    </tr>\n",
       "    <tr>\n",
       "      <th>2</th>\n",
       "      <td>/c/en/0-/r/DefinedAs-/c/en/number_zero-0000</td>\n",
       "      <td>/c/en/0</td>\n",
       "      <td>/r/DefinedAs</td>\n",
       "      <td>/c/en/number_zero</td>\n",
       "      <td>0</td>\n",
       "      <td>number zero</td>\n",
       "      <td>defined as</td>\n",
       "      <td>NaN</td>\n",
       "      <td>CN</td>\n",
       "      <td>[[0]] is the [[number zero]].</td>\n",
       "    </tr>\n",
       "  </tbody>\n",
       "</table>\n",
       "</div>"
      ],
      "text/plain": [
       "                                                  id    node1      relation  \\\n",
       "0          /c/en/0-/r/DefinedAs-/c/en/empty_set-0000  /c/en/0  /r/DefinedAs   \n",
       "1  /c/en/0-/r/DefinedAs-/c/en/first_limit_ordinal...  /c/en/0  /r/DefinedAs   \n",
       "2        /c/en/0-/r/DefinedAs-/c/en/number_zero-0000  /c/en/0  /r/DefinedAs   \n",
       "\n",
       "                       node2 node1;label          node2;label relation;label  \\\n",
       "0            /c/en/empty_set           0            empty set     defined as   \n",
       "1  /c/en/first_limit_ordinal           0  first limit ordinal     defined as   \n",
       "2          /c/en/number_zero           0          number zero     defined as   \n",
       "\n",
       "  relation;dimension source                               sentence  \n",
       "0                NaN     CN            [[0]] is the [[empty set]].  \n",
       "1                NaN     CN  [[0]] is the [[first limit ordinal]].  \n",
       "2                NaN     CN          [[0]] is the [[number zero]].  "
      ]
     },
     "execution_count": 24,
     "metadata": {},
     "output_type": "execute_result"
    }
   ],
   "source": [
    "cskg = pd.read_csv(\"cskg_star.tsv\", delimiter=\"\\t\", error_bad_lines=False)\n",
    "cskg.head(3)"
   ]
  },
  {
   "cell_type": "code",
   "execution_count": 3,
   "metadata": {},
   "outputs": [
    {
     "name": "stdout",
     "output_type": "stream",
     "text": [
      "(10000, 7)\n"
     ]
    },
    {
     "data": {
      "text/html": [
       "<div>\n",
       "<style scoped>\n",
       "    .dataframe tbody tr th:only-of-type {\n",
       "        vertical-align: middle;\n",
       "    }\n",
       "\n",
       "    .dataframe tbody tr th {\n",
       "        vertical-align: top;\n",
       "    }\n",
       "\n",
       "    .dataframe thead th {\n",
       "        text-align: right;\n",
       "    }\n",
       "</style>\n",
       "<table border=\"1\" class=\"dataframe\">\n",
       "  <thead>\n",
       "    <tr style=\"text-align: right;\">\n",
       "      <th></th>\n",
       "      <th>file_name</th>\n",
       "      <th>misogynous</th>\n",
       "      <th>shaming</th>\n",
       "      <th>stereotype</th>\n",
       "      <th>objectification</th>\n",
       "      <th>violence</th>\n",
       "      <th>Text Transcription</th>\n",
       "    </tr>\n",
       "  </thead>\n",
       "  <tbody>\n",
       "    <tr>\n",
       "      <th>0</th>\n",
       "      <td>1.jpg</td>\n",
       "      <td>0</td>\n",
       "      <td>0</td>\n",
       "      <td>0</td>\n",
       "      <td>0</td>\n",
       "      <td>0</td>\n",
       "      <td>Milk Milk.zip</td>\n",
       "    </tr>\n",
       "    <tr>\n",
       "      <th>1</th>\n",
       "      <td>10.jpg</td>\n",
       "      <td>1</td>\n",
       "      <td>0</td>\n",
       "      <td>0</td>\n",
       "      <td>0</td>\n",
       "      <td>1</td>\n",
       "      <td>ROSES ARE RED, VIOLETS ARE BLUE IF YOU DON'T S...</td>\n",
       "    </tr>\n",
       "    <tr>\n",
       "      <th>2</th>\n",
       "      <td>1000.jpg</td>\n",
       "      <td>0</td>\n",
       "      <td>0</td>\n",
       "      <td>0</td>\n",
       "      <td>0</td>\n",
       "      <td>0</td>\n",
       "      <td>BREAKING NEWS: Russia releases photo of DONALD...</td>\n",
       "    </tr>\n",
       "  </tbody>\n",
       "</table>\n",
       "</div>"
      ],
      "text/plain": [
       "  file_name  misogynous  shaming  stereotype  objectification  violence  \\\n",
       "0     1.jpg           0        0           0                0         0   \n",
       "1    10.jpg           1        0           0                0         1   \n",
       "2  1000.jpg           0        0           0                0         0   \n",
       "\n",
       "                                  Text Transcription  \n",
       "0                                      Milk Milk.zip  \n",
       "1  ROSES ARE RED, VIOLETS ARE BLUE IF YOU DON'T S...  \n",
       "2  BREAKING NEWS: Russia releases photo of DONALD...  "
      ]
     },
     "execution_count": 3,
     "metadata": {},
     "output_type": "execute_result"
    }
   ],
   "source": [
    "df = pd.read_csv(\"../../data/extracted/TRAINING/training.csv\", delimiter='\\t')\n",
    "print(df.shape)\n",
    "df.head(3)"
   ]
  },
  {
   "cell_type": "code",
   "execution_count": 4,
   "metadata": {},
   "outputs": [],
   "source": [
    "def preprocess(text):\n",
    "    text = text.lower()\n",
    "    text = ' '.join([word for word in text.split() if word not in stopwords])\n",
    "    text = ' '.join([word for word in text.split() if len(word) >= 3])\n",
    "    text = ' '.join([word for word in text.split() if not re.match(r'\\b\\w+\\.(com|org|net)\\b', word)])\n",
    "    text = text.translate(str.maketrans('', '', string.punctuation))\n",
    "    return text\n",
    "\n",
    "texts = df['Text Transcription'].tolist()\n",
    "texts = list(map(preprocess, texts))"
   ]
  },
  {
   "cell_type": "code",
   "execution_count": 32,
   "metadata": {},
   "outputs": [
    {
     "name": "stdout",
     "output_type": "stream",
     "text": [
      "lvl1 lv199\n"
     ]
    },
    {
     "data": {
      "text/plain": [
       "file_name              10318.jpg\n",
       "misogynous                     1\n",
       "shaming                        0\n",
       "stereotype                     0\n",
       "objectification                1\n",
       "violence                       0\n",
       "Text Transcription    LVL1 Lv199\n",
       "Name: 302, dtype: object"
      ]
     },
     "execution_count": 32,
     "metadata": {},
     "output_type": "execute_result"
    }
   ],
   "source": [
    "record_index = 302\n",
    "print(texts[record_index])\n",
    "df.iloc[record_index]"
   ]
  },
  {
   "cell_type": "code",
   "execution_count": 26,
   "metadata": {},
   "outputs": [
    {
     "data": {
      "text/plain": [
       "['super',\n",
       " 'rare',\n",
       " 'find',\n",
       " 'akitchen',\n",
       " 'four',\n",
       " 'ovens',\n",
       " 'three',\n",
       " 'dishwashers',\n",
       " 'sb']"
      ]
     },
     "execution_count": 26,
     "metadata": {},
     "output_type": "execute_result"
    }
   ],
   "source": [
    "entities = texts[record_index].split()\n",
    "entities"
   ]
  }
 ],
 "metadata": {
  "kernelspec": {
   "display_name": "Python 3.8.13 ('meme-understanding')",
   "language": "python",
   "name": "python3"
  },
  "language_info": {
   "codemirror_mode": {
    "name": "ipython",
    "version": 3
   },
   "file_extension": ".py",
   "mimetype": "text/x-python",
   "name": "python",
   "nbconvert_exporter": "python",
   "pygments_lexer": "ipython3",
   "version": "3.8.13"
  },
  "orig_nbformat": 4,
  "vscode": {
   "interpreter": {
    "hash": "ac3a4705714bedcbc0bf474a17d6c43d1f5f0469c7eabde18800deccbb1690fc"
   }
  }
 },
 "nbformat": 4,
 "nbformat_minor": 2
}
