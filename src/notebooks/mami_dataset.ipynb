{
 "cells": [
  {
   "cell_type": "code",
   "execution_count": 1,
   "metadata": {},
   "outputs": [
    {
     "name": "stdout",
     "output_type": "stream",
     "text": [
      "/scratch/abhinav/meme-understanding\n"
     ]
    }
   ],
   "source": [
    "# Run only ones at the starting\n",
    "%cd ../.."
   ]
  },
  {
   "cell_type": "code",
   "execution_count": 2,
   "metadata": {},
   "outputs": [
    {
     "name": "stderr",
     "output_type": "stream",
     "text": [
      "/nas/home/akthakur/miniforge-pypy3/envs/meme-understanding/lib/python3.8/site-packages/tqdm/auto.py:22: TqdmWarning: IProgress not found. Please update jupyter and ipywidgets. See https://ipywidgets.readthedocs.io/en/stable/user_install.html\n",
      "  from .autonotebook import tqdm as notebook_tqdm\n"
     ]
    }
   ],
   "source": [
    "from src.datasets.mami import MisogynyDataset\n",
    "from src.configs.config_reader import read_dict_configs"
   ]
  },
  {
   "cell_type": "code",
   "execution_count": 3,
   "metadata": {},
   "outputs": [
    {
     "name": "stderr",
     "output_type": "stream",
     "text": [
      "emoji is not installed, thus not converting emoticons or emojis into text. Install emoji: pip3 install emoji==0.6.0\n",
      "Special tokens have been added in the vocabulary, make sure the associated word embeddings are fine-tuned or trained.\n",
      "emoji is not installed, thus not converting emoticons or emojis into text. Install emoji: pip3 install emoji==0.6.0\n",
      "Special tokens have been added in the vocabulary, make sure the associated word embeddings are fine-tuned or trained.\n"
     ]
    }
   ],
   "source": [
    "configs = read_dict_configs({\n",
    "    'model': {\n",
    "        'text': {\n",
    "            'bert': 'vinai/bertweet-base',\n",
    "            'max_length': 128\n",
    "        }\n",
    "    }\n",
    "})\n",
    "\n",
    "train_dataset = MisogynyDataset.create_mami_dataset_from_files('train', configs, './data/extracted/TRAINING', 'training.csv')\n",
    "test_dataset = MisogynyDataset.create_mami_dataset_from_files('test', configs, './data/extracted/test', 'Test.csv', './data/extracted/test_labels.txt')"
   ]
  },
  {
   "cell_type": "code",
   "execution_count": 4,
   "metadata": {},
   "outputs": [
    {
     "name": "stdout",
     "output_type": "stream",
     "text": [
      "Summaries for train dataset\n",
      "Number of samples: 10000\n",
      "Class wise distribution:\n",
      "Class              Count\n",
      "---------------  -------\n",
      "misogynous          5000\n",
      "violence             953\n",
      "stereotype          2810\n",
      "objectification     2202\n",
      "shaming             1274\n"
     ]
    }
   ],
   "source": [
    "train_dataset.summarize()"
   ]
  },
  {
   "cell_type": "code",
   "execution_count": 5,
   "metadata": {},
   "outputs": [
    {
     "name": "stdout",
     "output_type": "stream",
     "text": [
      "Summaries for test dataset\n",
      "Number of samples: 1000\n",
      "Class wise distribution:\n",
      "Class              Count\n",
      "---------------  -------\n",
      "misogynous           500\n",
      "stereotype           350\n",
      "objectification      348\n",
      "violence             153\n",
      "shaming              146\n"
     ]
    }
   ],
   "source": [
    "test_dataset.summarize()"
   ]
  },
  {
   "cell_type": "code",
   "execution_count": 9,
   "metadata": {},
   "outputs": [
    {
     "name": "stdout",
     "output_type": "stream",
     "text": [
      "----------------------------------------------------------------------------------------------------\n",
      "K-Fold 0:\n",
      "Summaries for train_0 dataset\n",
      "Number of samples: 8000\n",
      "Class wise distribution:\n",
      "Class              Count\n",
      "---------------  -------\n",
      "misogynous          3996\n",
      "violence             761\n",
      "objectification     1769\n",
      "shaming             1023\n",
      "stereotype          2246\n",
      "-------------------------\n",
      "Summaries for eval_0 dataset\n",
      "Number of samples: 2000\n",
      "Class wise distribution:\n",
      "Class              Count\n",
      "---------------  -------\n",
      "misogynous          1004\n",
      "stereotype           564\n",
      "objectification      433\n",
      "violence             192\n",
      "shaming              251\n",
      "----------------------------------------------------------------------------------------------------\n",
      "K-Fold 1:\n",
      "Summaries for train_1 dataset\n",
      "Number of samples: 8000\n",
      "Class wise distribution:\n",
      "Class              Count\n",
      "---------------  -------\n",
      "misogynous          4019\n",
      "violence             767\n",
      "stereotype          2277\n",
      "objectification     1762\n",
      "shaming             1010\n",
      "-------------------------\n",
      "Summaries for eval_1 dataset\n",
      "Number of samples: 2000\n",
      "Class wise distribution:\n",
      "Class              Count\n",
      "---------------  -------\n",
      "misogynous           981\n",
      "shaming              264\n",
      "stereotype           533\n",
      "objectification      440\n",
      "violence             186\n",
      "----------------------------------------------------------------------------------------------------\n",
      "K-Fold 2:\n",
      "Summaries for train_2 dataset\n",
      "Number of samples: 8000\n",
      "Class wise distribution:\n",
      "Class              Count\n",
      "---------------  -------\n",
      "misogynous          4008\n",
      "violence             766\n",
      "stereotype          2244\n",
      "objectification     1759\n",
      "shaming             1034\n",
      "-------------------------\n",
      "Summaries for eval_2 dataset\n",
      "Number of samples: 2000\n",
      "Class wise distribution:\n",
      "Class              Count\n",
      "---------------  -------\n",
      "misogynous           992\n",
      "shaming              240\n",
      "stereotype           566\n",
      "objectification      443\n",
      "violence             187\n",
      "----------------------------------------------------------------------------------------------------\n",
      "K-Fold 3:\n",
      "Summaries for train_3 dataset\n",
      "Number of samples: 8000\n",
      "Class wise distribution:\n",
      "Class              Count\n",
      "---------------  -------\n",
      "misogynous          3988\n",
      "violence             762\n",
      "stereotype          2234\n",
      "objectification     1763\n",
      "shaming              989\n",
      "-------------------------\n",
      "Summaries for eval_3 dataset\n",
      "Number of samples: 2000\n",
      "Class wise distribution:\n",
      "Class              Count\n",
      "---------------  -------\n",
      "misogynous          1012\n",
      "objectification      439\n",
      "shaming              285\n",
      "stereotype           576\n",
      "violence             191\n",
      "----------------------------------------------------------------------------------------------------\n",
      "K-Fold 4:\n",
      "Summaries for train_4 dataset\n",
      "Number of samples: 8000\n",
      "Class wise distribution:\n",
      "Class              Count\n",
      "---------------  -------\n",
      "misogynous          3989\n",
      "stereotype          2239\n",
      "objectification     1755\n",
      "violence             756\n",
      "shaming             1040\n",
      "-------------------------\n",
      "Summaries for eval_4 dataset\n",
      "Number of samples: 2000\n",
      "Class wise distribution:\n",
      "Class              Count\n",
      "---------------  -------\n",
      "misogynous          1011\n",
      "violence             197\n",
      "objectification      447\n",
      "shaming              234\n",
      "stereotype           571\n"
     ]
    }
   ],
   "source": [
    "for i in range(5):\n",
    "    train, eval = train_dataset.get_kth_fold_dataset(i)\n",
    "    print('-' * 100)\n",
    "    print(f'K-Fold {i}:')\n",
    "    train.summarize()\n",
    "    print('-' * 25)\n",
    "    eval.summarize()"
   ]
  }
 ],
 "metadata": {
  "kernelspec": {
   "display_name": "Python 3.8.13 ('meme-understanding')",
   "language": "python",
   "name": "python3"
  },
  "language_info": {
   "codemirror_mode": {
    "name": "ipython",
    "version": 3
   },
   "file_extension": ".py",
   "mimetype": "text/x-python",
   "name": "python",
   "nbconvert_exporter": "python",
   "pygments_lexer": "ipython3",
   "version": "3.8.13"
  },
  "orig_nbformat": 4,
  "vscode": {
   "interpreter": {
    "hash": "d9f19cbf6891a2e1eb7a5f5d89baebf7d6a55e3ccd7c0b03d533951f483c418f"
   }
  }
 },
 "nbformat": 4,
 "nbformat_minor": 2
}
